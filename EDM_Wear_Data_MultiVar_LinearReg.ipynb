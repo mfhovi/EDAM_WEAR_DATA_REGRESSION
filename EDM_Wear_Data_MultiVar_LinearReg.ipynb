{
 "cells": [
  {
   "cell_type": "code",
   "execution_count": 24,
   "id": "63ef91f2",
   "metadata": {},
   "outputs": [],
   "source": [
    "import numpy as np\n",
    "import pandas as pd\n",
    "from sklearn.linear_model import LinearRegression\n",
    "from sklearn.metrics import mean_squared_error, mean_absolute_error\n",
    "import os"
   ]
  },
  {
   "cell_type": "code",
   "execution_count": 25,
   "id": "a1d35452",
   "metadata": {},
   "outputs": [],
   "source": [
    "#importing the data set\n",
    "os.getcwd()\n",
    "df_train = pd.read_excel(\"EDM_DATA_Train.xlsx\")"
   ]
  },
  {
   "cell_type": "code",
   "execution_count": 26,
   "id": "43ef1ce2",
   "metadata": {},
   "outputs": [
    {
     "data": {
      "text/html": [
       "<div>\n",
       "<style scoped>\n",
       "    .dataframe tbody tr th:only-of-type {\n",
       "        vertical-align: middle;\n",
       "    }\n",
       "\n",
       "    .dataframe tbody tr th {\n",
       "        vertical-align: top;\n",
       "    }\n",
       "\n",
       "    .dataframe thead th {\n",
       "        text-align: right;\n",
       "    }\n",
       "</style>\n",
       "<table border=\"1\" class=\"dataframe\">\n",
       "  <thead>\n",
       "    <tr style=\"text-align: right;\">\n",
       "      <th></th>\n",
       "      <th>x1</th>\n",
       "      <th>x2</th>\n",
       "      <th>x3</th>\n",
       "      <th>x4</th>\n",
       "      <th>y1</th>\n",
       "    </tr>\n",
       "  </thead>\n",
       "  <tbody>\n",
       "    <tr>\n",
       "      <th>63</th>\n",
       "      <td>2000</td>\n",
       "      <td>10</td>\n",
       "      <td>100</td>\n",
       "      <td>0.5</td>\n",
       "      <td>2.73</td>\n",
       "    </tr>\n",
       "    <tr>\n",
       "      <th>64</th>\n",
       "      <td>2000</td>\n",
       "      <td>25</td>\n",
       "      <td>500</td>\n",
       "      <td>2.0</td>\n",
       "      <td>13.21</td>\n",
       "    </tr>\n",
       "    <tr>\n",
       "      <th>65</th>\n",
       "      <td>500</td>\n",
       "      <td>25</td>\n",
       "      <td>100</td>\n",
       "      <td>1.5</td>\n",
       "      <td>5.31</td>\n",
       "    </tr>\n",
       "    <tr>\n",
       "      <th>66</th>\n",
       "      <td>500</td>\n",
       "      <td>25</td>\n",
       "      <td>800</td>\n",
       "      <td>0.5</td>\n",
       "      <td>8.54</td>\n",
       "    </tr>\n",
       "    <tr>\n",
       "      <th>67</th>\n",
       "      <td>500</td>\n",
       "      <td>25</td>\n",
       "      <td>500</td>\n",
       "      <td>1.0</td>\n",
       "      <td>7.44</td>\n",
       "    </tr>\n",
       "  </tbody>\n",
       "</table>\n",
       "</div>"
      ],
      "text/plain": [
       "      x1  x2   x3   x4     y1\n",
       "63  2000  10  100  0.5   2.73\n",
       "64  2000  25  500  2.0  13.21\n",
       "65   500  25  100  1.5   5.31\n",
       "66   500  25  800  0.5   8.54\n",
       "67   500  25  500  1.0   7.44"
      ]
     },
     "execution_count": 26,
     "metadata": {},
     "output_type": "execute_result"
    }
   ],
   "source": [
    "df_train.tail()"
   ]
  },
  {
   "cell_type": "code",
   "execution_count": 27,
   "id": "add29f53",
   "metadata": {},
   "outputs": [],
   "source": [
    "#creating object\n",
    "reg = LinearRegression()"
   ]
  },
  {
   "cell_type": "code",
   "execution_count": 28,
   "id": "59257b96",
   "metadata": {},
   "outputs": [],
   "source": [
    "X_train = df_train[[\"x1\",\"x2\",\"x3\",\"x4\"]]\n",
    "y_train = df_train[\"y1\"]"
   ]
  },
  {
   "cell_type": "code",
   "execution_count": 29,
   "id": "9b5598d6",
   "metadata": {},
   "outputs": [
    {
     "data": {
      "text/plain": [
       "LinearRegression()"
      ]
     },
     "execution_count": 29,
     "metadata": {},
     "output_type": "execute_result"
    }
   ],
   "source": [
    "#data fitting\n",
    "reg.fit(X_train,y_train)"
   ]
  },
  {
   "cell_type": "code",
   "execution_count": 30,
   "id": "b37b34cc",
   "metadata": {},
   "outputs": [
    {
     "data": {
      "text/plain": [
       "array([0.00410623, 0.13367275, 0.01299189, 1.85013595])"
      ]
     },
     "execution_count": 30,
     "metadata": {},
     "output_type": "execute_result"
    }
   ],
   "source": [
    "#coefficient and\n",
    "reg.coef_"
   ]
  },
  {
   "cell_type": "code",
   "execution_count": 31,
   "id": "d8e0d7a3",
   "metadata": {},
   "outputs": [
    {
     "data": {
      "text/plain": [
       "-6.794788785620906"
      ]
     },
     "execution_count": 31,
     "metadata": {},
     "output_type": "execute_result"
    }
   ],
   "source": [
    "# coefficent\n",
    "reg.intercept_"
   ]
  },
  {
   "cell_type": "markdown",
   "id": "ffba9ca8",
   "metadata": {},
   "source": [
    "# Function \n",
    "# Y = [0.00410623, 0.13367275, 0.01299189, 1.85013595]*[X]-6.794788785620906"
   ]
  },
  {
   "cell_type": "code",
   "execution_count": 32,
   "id": "4b281671",
   "metadata": {},
   "outputs": [
    {
     "data": {
      "text/html": [
       "<div>\n",
       "<style scoped>\n",
       "    .dataframe tbody tr th:only-of-type {\n",
       "        vertical-align: middle;\n",
       "    }\n",
       "\n",
       "    .dataframe tbody tr th {\n",
       "        vertical-align: top;\n",
       "    }\n",
       "\n",
       "    .dataframe thead th {\n",
       "        text-align: right;\n",
       "    }\n",
       "</style>\n",
       "<table border=\"1\" class=\"dataframe\">\n",
       "  <thead>\n",
       "    <tr style=\"text-align: right;\">\n",
       "      <th></th>\n",
       "      <th>x1</th>\n",
       "      <th>x2</th>\n",
       "      <th>x3</th>\n",
       "      <th>x4</th>\n",
       "      <th>y1</th>\n",
       "    </tr>\n",
       "  </thead>\n",
       "  <tbody>\n",
       "    <tr>\n",
       "      <th>0</th>\n",
       "      <td>500</td>\n",
       "      <td>45</td>\n",
       "      <td>100</td>\n",
       "      <td>2.0</td>\n",
       "      <td>4.05</td>\n",
       "    </tr>\n",
       "    <tr>\n",
       "      <th>1</th>\n",
       "      <td>2000</td>\n",
       "      <td>10</td>\n",
       "      <td>100</td>\n",
       "      <td>1.0</td>\n",
       "      <td>4.24</td>\n",
       "    </tr>\n",
       "    <tr>\n",
       "      <th>2</th>\n",
       "      <td>2000</td>\n",
       "      <td>60</td>\n",
       "      <td>100</td>\n",
       "      <td>2.0</td>\n",
       "      <td>12.08</td>\n",
       "    </tr>\n",
       "    <tr>\n",
       "      <th>3</th>\n",
       "      <td>500</td>\n",
       "      <td>10</td>\n",
       "      <td>500</td>\n",
       "      <td>1.0</td>\n",
       "      <td>6.69</td>\n",
       "    </tr>\n",
       "    <tr>\n",
       "      <th>4</th>\n",
       "      <td>500</td>\n",
       "      <td>25</td>\n",
       "      <td>800</td>\n",
       "      <td>1.0</td>\n",
       "      <td>9.86</td>\n",
       "    </tr>\n",
       "  </tbody>\n",
       "</table>\n",
       "</div>"
      ],
      "text/plain": [
       "     x1  x2   x3   x4     y1\n",
       "0   500  45  100  2.0   4.05\n",
       "1  2000  10  100  1.0   4.24\n",
       "2  2000  60  100  2.0  12.08\n",
       "3   500  10  500  1.0   6.69\n",
       "4   500  25  800  1.0   9.86"
      ]
     },
     "execution_count": 32,
     "metadata": {},
     "output_type": "execute_result"
    }
   ],
   "source": [
    "df_test = pd.read_excel(\"EDM_DATA_Test.xlsx\")\n",
    "df_test.head()"
   ]
  },
  {
   "cell_type": "code",
   "execution_count": 33,
   "id": "6739327b",
   "metadata": {},
   "outputs": [],
   "source": [
    "X_test = df_test[[\"x1\",\"x2\",\"x3\",\"x4\"]]\n",
    "y_test = df_test[\"y1\"]"
   ]
  },
  {
   "cell_type": "code",
   "execution_count": 34,
   "id": "897f23ae",
   "metadata": {
    "scrolled": true
   },
   "outputs": [
    {
     "data": {
      "text/html": [
       "<div>\n",
       "<style scoped>\n",
       "    .dataframe tbody tr th:only-of-type {\n",
       "        vertical-align: middle;\n",
       "    }\n",
       "\n",
       "    .dataframe tbody tr th {\n",
       "        vertical-align: top;\n",
       "    }\n",
       "\n",
       "    .dataframe thead th {\n",
       "        text-align: right;\n",
       "    }\n",
       "</style>\n",
       "<table border=\"1\" class=\"dataframe\">\n",
       "  <thead>\n",
       "    <tr style=\"text-align: right;\">\n",
       "      <th></th>\n",
       "      <th>x1</th>\n",
       "      <th>x2</th>\n",
       "      <th>x3</th>\n",
       "      <th>x4</th>\n",
       "    </tr>\n",
       "  </thead>\n",
       "  <tbody>\n",
       "    <tr>\n",
       "      <th>9</th>\n",
       "      <td>2000</td>\n",
       "      <td>25</td>\n",
       "      <td>100</td>\n",
       "      <td>1.0</td>\n",
       "    </tr>\n",
       "    <tr>\n",
       "      <th>10</th>\n",
       "      <td>2000</td>\n",
       "      <td>45</td>\n",
       "      <td>100</td>\n",
       "      <td>1.0</td>\n",
       "    </tr>\n",
       "    <tr>\n",
       "      <th>11</th>\n",
       "      <td>2000</td>\n",
       "      <td>60</td>\n",
       "      <td>500</td>\n",
       "      <td>1.5</td>\n",
       "    </tr>\n",
       "    <tr>\n",
       "      <th>12</th>\n",
       "      <td>500</td>\n",
       "      <td>25</td>\n",
       "      <td>500</td>\n",
       "      <td>2.0</td>\n",
       "    </tr>\n",
       "    <tr>\n",
       "      <th>13</th>\n",
       "      <td>2000</td>\n",
       "      <td>25</td>\n",
       "      <td>100</td>\n",
       "      <td>2.0</td>\n",
       "    </tr>\n",
       "  </tbody>\n",
       "</table>\n",
       "</div>"
      ],
      "text/plain": [
       "      x1  x2   x3   x4\n",
       "9   2000  25  100  1.0\n",
       "10  2000  45  100  1.0\n",
       "11  2000  60  500  1.5\n",
       "12   500  25  500  2.0\n",
       "13  2000  25  100  2.0"
      ]
     },
     "execution_count": 34,
     "metadata": {},
     "output_type": "execute_result"
    }
   ],
   "source": [
    "X_test.tail()"
   ]
  },
  {
   "cell_type": "code",
   "execution_count": 35,
   "id": "f5f2d24a",
   "metadata": {},
   "outputs": [],
   "source": [
    "# pridiction from test data\n",
    "predictions = reg.predict(X_test)\n"
   ]
  },
  {
   "cell_type": "code",
   "execution_count": 36,
   "id": "c75babec",
   "metadata": {},
   "outputs": [
    {
     "name": "stdout",
     "output_type": "stream",
     "text": [
      "2.2761932801980835\n",
      "6.903853702160383\n",
      "2.6275185445892446\n"
     ]
    }
   ],
   "source": [
    "#error\n",
    "from sklearn.metrics import mean_squared_error, mean_absolute_error\n",
    "print(mean_absolute_error(y_test, predictions))                 # mean absolute error\n",
    "print(mean_squared_error(y_test, predictions))                  # mean squared error\n",
    "print(mean_squared_error(y_test, predictions, squared = False)) # RMSE"
   ]
  },
  {
   "cell_type": "code",
   "execution_count": 37,
   "id": "b35e9e97",
   "metadata": {},
   "outputs": [
    {
     "name": "stdout",
     "output_type": "stream",
     "text": [
      "Coefficient of Ditermination:  71.02925076875142 %\n"
     ]
    }
   ],
   "source": [
    "from sklearn.metrics import r2_score\n",
    "print(\"Coefficient of Ditermination: \",r2_score(y_test, predictions)*100,\"%\")"
   ]
  },
  {
   "cell_type": "code",
   "execution_count": 47,
   "id": "2d290e6e",
   "metadata": {},
   "outputs": [],
   "source": [
    "# Create a DataFrame\n",
    "df = pd.DataFrame(predictions)\n",
    "custom_header = ['Prdections']\n",
    "# Export the DataFrame to an Excel file\n",
    "df.to_excel('EDM_DATA_Test_predictions.xlsx', index=False, na_rep='N/A', header=custom_header, index_label='ID')"
   ]
  }
 ],
 "metadata": {
  "kernelspec": {
   "display_name": "Python 3 (ipykernel)",
   "language": "python",
   "name": "python3"
  },
  "language_info": {
   "codemirror_mode": {
    "name": "ipython",
    "version": 3
   },
   "file_extension": ".py",
   "mimetype": "text/x-python",
   "name": "python",
   "nbconvert_exporter": "python",
   "pygments_lexer": "ipython3",
   "version": "3.9.13"
  }
 },
 "nbformat": 4,
 "nbformat_minor": 5
}
